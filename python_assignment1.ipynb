{
 "cells": [
  {
   "cell_type": "code",
   "execution_count": 1,
   "metadata": {},
   "outputs": [
    {
     "ename": "IndentationError",
     "evalue": "unexpected indent (<ipython-input-1-f0ddb2f56a37>, line 3)",
     "output_type": "error",
     "traceback": [
      "\u001b[1;36m  File \u001b[1;32m\"<ipython-input-1-f0ddb2f56a37>\"\u001b[1;36m, line \u001b[1;32m3\u001b[0m\n\u001b[1;33m    *    -This is the multiplication operator in python.It is used to do multiplication of two operants. it can be either numbers or\u001b[0m\n\u001b[1;37m    ^\u001b[0m\n\u001b[1;31mIndentationError\u001b[0m\u001b[1;31m:\u001b[0m unexpected indent\n"
     ]
    }
   ],
   "source": [
    "1. What are the differences between operators and values in the following?\n",
    " \n",
    " *    -This is the multiplication operator in python.It is used to do multiplication of two operants. it can be either numbers or \n",
    "strings or even lists. this operator just multiplies the value. For example if we give the command as print(\"*\"*3) the output will\n",
    "be ***. Multiplication operation cant be performed between two str values.\n",
    " \n",
    " -87.8   -this is a fixed value with datatype float. we can do various operations with this value using operators. we can also \n",
    "assign this value to any variable and perform arithmetic operations using the same. operations can be performed between\n",
    "int and float datatypes.\n",
    " \n",
    " 'hello'  -this is string with a length of 5.We can use + operator to connect two strings. we can also perform multiplication\n",
    "using * operator with int datatype. for example, \"hello\"+\"world\" will return ouput as \"helloworld\" similarly \"hello\"*3 will give\n",
    "an ouput \"hellohellohello\" . but we cant use other operators to perform actions on strings.\n",
    " \n",
    " -   this is the subtraction operator. it can be used to obtain the difference of two int values or float values.\n",
    " \n",
    " /   division operator.can be used with datatypes int and float. operand should not be str.\n",
    " \n",
    " +   addition operator. can be used to get the sum of int and float datatypes. can also be used to add new characters\n",
    "to a string. for example if we write a=\"hello\"+\"world\" the variable a will take a value of \"helloworld\". but clearly\n",
    "we can see that addition operation can be performed on a string if both the operands are of str datatype.\n",
    " \n",
    " 6   this is a int datatype with value 6. we can also perform other arithmetic operations against this value.\n",
    " \n",
    " \n",
    "2. What is the difference between string and variable?\n",
    "spam\n",
    "'spam'\n",
    "\n",
    "string is a datatype with a sequence of characters. we define a string by enclosing them in \"\"or '' . if we define \"3\" , \n",
    "we save this as a string datatype. we wont be able to perform arithmetic operations with this.it is used mainly for reading and\n",
    "writing data.\n",
    "Variables are references that you create to refer to other values in your program later.A variable is a store of information and\n",
    "string is a type of information you would store in a variable.a variable can store everything from string to numbers and this\n",
    "variable can also be used to identify the location which stores the data.\n",
    "in the given example, \"spam\" is a string stored. but spam here refers to a random variable name given which can be used to\n",
    "store any datatype. it must not be a string. for example if we say spam=5, we are creating a variable called as spam\n",
    "which have a int value of 5.if we now do addition operation like spam+5 the ouput will turnout to be 10.\n",
    "\n",
    "\n",
    "3. Describe three different data forms.\n",
    "\n",
    "a) Integer\n",
    "       it conist of integer numbers without a decimal point. in python this type of datatype is refered as int.\n",
    "    there is no limit to the size of int numbers and negative numbvers without decimal is also included in int.\n",
    "      \n",
    "b)  Floating pointing numbers\n",
    "          represented as float. only difference between int and float is the presence of a decimal point in the latter.\n",
    "    decimal points upto 15 places are supported in python. operation between an int datatype and float type gives an output\n",
    "    with type float.\n",
    "          \n",
    "c)  List\n",
    "         List is an ordered sequence of items. it is onbe of the most flexible data type available in python.\n",
    "    it is an oredered collection but the data types may not be of the sametype.A list can include integer values and string.\n",
    "    a list can even a store anothere list inside it. a list is created by the use of[] and the elements of the list can be \n",
    "    accesed by using their index which starts from 0.\n",
    "    \n",
    "4.  What makes up an expression? What are the functions of all expressions?\n",
    "\n",
    "    Expression is a combination of variables, operations and values that yields a result value.An expression always gives a final\n",
    "    value.for example if we write a=2+2 , we can call this as an expression.here a final value which is 4 will be stored for a.also \n",
    "    an expression has a final value and also a data type. in the given examople final value is 4and data type is int.\n",
    "    python expressions only contain identifiers, literals, and operators so a string is also an expression.\n",
    "    \n",
    "   the basic function of an expression is to evaluate and assign a value. Expressions are crucial to evaluate various data. \n",
    "   if we ask the python interpreter to print an expression , it evaluates the data and print the final output. since expressions \n",
    "    contain various arithmetic operations, it is the backbone of any code we write.any program consist of a number  of such expressions.\n",
    "    A value all by itself is an expresion. similarly a variable also.They are different from statement in the fact that\n",
    "    statements do something while expressions are representation of value. \n",
    "    \n",
    "5. In this chapter, assignment statements such as spam = 10 were added. What's the \n",
    "   difference between a declaration and an expression?\n",
    "\n",
    "    Declaration is a statement declaring a variable or a fuction.declarations inform the compiler or interpreter\n",
    "    what the identifying word means,and how the identified thing should be used. For example if we declare a[]\n",
    "    we are declaring that variable a is a list datatype and using this we can perform operations. similarly if we declare \n",
    "    spam=10 we are actually assigning integer value 10 to a variable called as spam. \n",
    "    \n",
    "    Basic difference between a declaration and expression is that expressions are used to do calculations using operators. to perform\n",
    "    calculations we need expressions. an expression has both value and a datatype. simply put, a declaration is statement that defines\n",
    "    a variable and an expression is used to perform various operations using this declared variable and assign a final value.\n",
    "    \n",
    "6.  After running the following code, what does the variable bacon contain?\n",
    "      bacon = 22\n",
    "      bacon + 1\n",
    " \n",
    "     variable bacon will contain a value of 22 . the first expression will assign an integer value of 22 to variable bacon\n",
    "     and the second statement is asking the compiler to add 1 to variable bacon. so the value of bacon will be 22 itself.\n",
    "        \n",
    "        \n",
    "7. What should the values of the following two terms be?\n",
    "\n",
    "'spam' + 'spamspam'\n",
    "'spam' * 3\n",
    "\n",
    "  Both expressions returns the same final value. 'spamspamspam'\n",
    "    \n",
    "8. Why is it that eggs is a true variable name but 100 is not?\n",
    "\n",
    "   In python we can give any name of any length to variables.it can include numbers also. but the first digit of a variable should\n",
    "    not be a number. hence eggs is a correct variable name but 100 is not.\n",
    "    \n",
    "9. Which of the following three functions may be used to convert a value to an integer, a floating-point number, or a string?\n",
    "   \n",
    "    string function can be used to convert a value to an integer. if we type print(1+int(\"2\")) the compiler will return\n",
    "    an output 3 . same can be said of int() function for a floating point number as well. if we give int(50.5), the output \n",
    "    will be 50 which is the integer value of this float.\n",
    "    \n",
    "10. What is the error caused by this expression? What would you do about it?\n",
    "\n",
    "'I have eaten ' + 99 + ' burritos.'\n",
    "\n",
    "  the error in this program is that we are trying to add a string value with an integer value. if we had given \"99\" or '99' \n",
    "  there will be no error.\n",
    " \n",
    "\n",
    "\n",
    "\n",
    "        \n",
    "        \n",
    "\n",
    "    \n",
    "    \n",
    "\n",
    "    \n",
    "    \n",
    "\n",
    "\n"
   ]
  },
  {
   "cell_type": "code",
   "execution_count": 1,
   "metadata": {},
   "outputs": [
    {
     "data": {
      "text/plain": [
       "'spamspamspam'"
      ]
     },
     "execution_count": 1,
     "metadata": {},
     "output_type": "execute_result"
    }
   ],
   "source": []
  },
  {
   "cell_type": "code",
   "execution_count": 3,
   "metadata": {},
   "outputs": [
    {
     "data": {
      "text/plain": [
       "'spamspamspam'"
      ]
     },
     "execution_count": 3,
     "metadata": {},
     "output_type": "execute_result"
    }
   ],
   "source": []
  },
  {
   "cell_type": "code",
   "execution_count": 4,
   "metadata": {},
   "outputs": [
    {
     "data": {
      "text/plain": [
       "3"
      ]
     },
     "execution_count": 4,
     "metadata": {},
     "output_type": "execute_result"
    }
   ],
   "source": [
    "int(3.6)"
   ]
  },
  {
   "cell_type": "code",
   "execution_count": 5,
   "metadata": {},
   "outputs": [
    {
     "data": {
      "text/plain": [
       "'saaa'"
      ]
     },
     "execution_count": 5,
     "metadata": {},
     "output_type": "execute_result"
    }
   ],
   "source": [
    "\"s\"+\"aaa\""
   ]
  },
  {
   "cell_type": "code",
   "execution_count": null,
   "metadata": {},
   "outputs": [],
   "source": []
  }
 ],
 "metadata": {
  "kernelspec": {
   "display_name": "Python 3",
   "language": "python",
   "name": "python3"
  },
  "language_info": {
   "codemirror_mode": {
    "name": "ipython",
    "version": 3
   },
   "file_extension": ".py",
   "mimetype": "text/x-python",
   "name": "python",
   "nbconvert_exporter": "python",
   "pygments_lexer": "ipython3",
   "version": "3.8.5"
  }
 },
 "nbformat": 4,
 "nbformat_minor": 4
}
