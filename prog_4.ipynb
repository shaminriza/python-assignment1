{
 "cells": [
  {
   "cell_type": "code",
   "execution_count": 1,
   "metadata": {},
   "outputs": [],
   "source": [
    "#q1\n",
    "\n",
    "def factorial():\n",
    "    j=1\n",
    "    x= int(input(\"Please Enter The Number\"))\n",
    "    for i in range(1,x+1):\n",
    "        j=j*i\n",
    "    print(\"Factorial of\",x,\"is \",j)\n",
    "    "
   ]
  },
  {
   "cell_type": "code",
   "execution_count": null,
   "metadata": {},
   "outputs": [],
   "source": [
    "#q2\n",
    "\n",
    "def table():\n",
    "    j=1\n",
    "    x=int(input(\"enter the number \"))\n",
    "    for i in range(1,11):\n",
    "        j=x*i\n",
    "        print(x,\"*\",i,\"= \",j)"
   ]
  },
  {
   "cell_type": "code",
   "execution_count": null,
   "metadata": {},
   "outputs": [],
   "source": [
    "#q3\n",
    "\n",
    "def fib():\n",
    "    x=int(input(\"enter the number\"))\n",
    "    l=[1,1]\n",
    "    for i in range(1,x):\n",
    "        l.append(l[i]+l[i-1])\n",
    "    print(\"Fibonacci series of first \",x,\"numbers is:\\n\")\n",
    "    print(l)"
   ]
  },
  {
   "cell_type": "code",
   "execution_count": null,
   "metadata": {},
   "outputs": [],
   "source": [
    "#q4\n",
    "\n",
    "a = int(input(\"Enter the number: \")) \n",
    "sum = 0 \n",
    "b = a \n",
    "while (b> 0): \n",
    "    digit = b % 10 \n",
    "    sum += digit ** 3 \n",
    "    b=b//10 \n",
    "if (a == sum): \n",
    "    print(\"Given input is an Armstrong number\") \n",
    "else: \n",
    "    print(\"Not an Armstrong number\")"
   ]
  },
  {
   "cell_type": "code",
   "execution_count": null,
   "metadata": {},
   "outputs": [],
   "source": [
    "#q5\n",
    "\n",
    "lower_limit = int(input(\"Enter lower limit of your range: \"))\n",
    "upper_limit = int(input(\"Enter upper limit of your range: \"))\n",
    "for i in range(lower_limit, upper_limit + 1):  \n",
    "    n = len(str(i))\n",
    "    x = i\n",
    "    sum=0\n",
    "    while x > 0:\n",
    "        digit = x % 10\n",
    "        sum =sum+ digit ** n\n",
    "        x=x//10\n",
    "    if i == sum:\n",
    "        print(i, end = ' ')"
   ]
  },
  {
   "cell_type": "code",
   "execution_count": null,
   "metadata": {},
   "outputs": [],
   "source": [
    "#q6\n",
    "\n",
    "def sum(x):\n",
    "    y = x*(x+1)/2\n",
    "    print(\"sum of first \",x,\"natural numbers is\",y)"
   ]
  }
 ],
 "metadata": {
  "kernelspec": {
   "display_name": "Python 3",
   "language": "python",
   "name": "python3"
  },
  "language_info": {
   "codemirror_mode": {
    "name": "ipython",
    "version": 3
   },
   "file_extension": ".py",
   "mimetype": "text/x-python",
   "name": "python",
   "nbconvert_exporter": "python",
   "pygments_lexer": "ipython3",
   "version": "3.8.5"
  }
 },
 "nbformat": 4,
 "nbformat_minor": 4
}
