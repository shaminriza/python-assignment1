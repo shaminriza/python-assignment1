{
 "cells": [
  {
   "cell_type": "code",
   "execution_count": null,
   "metadata": {},
   "outputs": [],
   "source": [
    "def distance(x):\n",
    "    y= x*0.621\n",
    "    print(\"Distance is \",y,\"km\")"
   ]
  },
  {
   "cell_type": "code",
   "execution_count": null,
   "metadata": {},
   "outputs": [],
   "source": [
    "def temp():\n",
    "    x=int(input(\"Enter Temperature in Degree Celcius\"))\n",
    "    y= 1.8*x + 32\n",
    "    print(\"Temperature is\",y,\" Fahrenheit\")\n",
    "    "
   ]
  },
  {
   "cell_type": "code",
   "execution_count": null,
   "metadata": {},
   "outputs": [],
   "source": [
    "import calendar\n",
    "y=int(input(\"Enter year\"))\n",
    "m=int(input(\"Enter month\"))\n",
    "print(calendar.month(y,m))"
   ]
  },
  {
   "cell_type": "code",
   "execution_count": null,
   "metadata": {},
   "outputs": [],
   "source": [
    "#standard form of a quadratic equation is ax**2 + bx + c = 0\n",
    "import cmath\n",
    "def root(a,b,c):\n",
    "    if a!=0:\n",
    "        discriminant = b**2 - 4*a*c\n",
    "        d= cmath.sqrt(discriminant)\n",
    "        root_1= (-b+d)/(2*a)\n",
    "        root_2= (-b-d)/(2*a)\n",
    "        print(\"solution 1 is {} and solution 2 is {}\".format(root_1,root_2))\n",
    "    else:\n",
    "        print(\"There is only one solution and it is\",(-c)/b)"
   ]
  },
  {
   "cell_type": "code",
   "execution_count": null,
   "metadata": {},
   "outputs": [],
   "source": [
    "def swap(a,b):\n",
    "    a,b=b,a\n",
    "    print(\"variable 1 is\",a,\" and variable 2 is\",b)"
   ]
  }
 ],
 "metadata": {
  "kernelspec": {
   "display_name": "Python 3",
   "language": "python",
   "name": "python3"
  },
  "language_info": {
   "codemirror_mode": {
    "name": "ipython",
    "version": 3
   },
   "file_extension": ".py",
   "mimetype": "text/x-python",
   "name": "python",
   "nbconvert_exporter": "python",
   "pygments_lexer": "ipython3",
   "version": "3.8.5"
  }
 },
 "nbformat": 4,
 "nbformat_minor": 4
}
