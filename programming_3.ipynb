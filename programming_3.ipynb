{
 "cells": [
  {
   "cell_type": "code",
   "execution_count": null,
   "metadata": {},
   "outputs": [],
   "source": [
    "#q1\n",
    "a= int(input(\"Please enter your number\"))\n",
    "if a<0:\n",
    "    print(\"You have entered a negative number\")\n",
    "elif a>0:\n",
    "    print(\"You have entered a positive number\")\n",
    "else:\n",
    "    print(\"You have entered zero\")"
   ]
  },
  {
   "cell_type": "code",
   "execution_count": null,
   "metadata": {},
   "outputs": [],
   "source": [
    "#q2\n",
    "def oddeven(x):\n",
    "    if x%2==0:\n",
    "        print(\"The number is Even\")\n",
    "    else:\n",
    "        print(\"The number is odd\")"
   ]
  },
  {
   "cell_type": "code",
   "execution_count": null,
   "metadata": {},
   "outputs": [],
   "source": [
    "#q3\n",
    "def leapyear(x):\n",
    "    if x%4==0 and x%100!=0:\n",
    "        print(\"This is a leap year\")\n",
    "    else:\n",
    "        print(\"Not a leap year\")"
   ]
  },
  {
   "cell_type": "code",
   "execution_count": null,
   "metadata": {},
   "outputs": [],
   "source": [
    "#q4\n",
    "def prime(x):\n",
    "    if x==1:\n",
    "        print(\"You have entered 1 , This is neither prime nor composite\")\n",
    "    elif x!=1:\n",
    "        for i in range(2,x):\n",
    "            if x%i==0:\n",
    "                print(\"This is not a prime number\")\n",
    "                break\n",
    "        else:\n",
    "            print(\"This is a Prime Number\")\n",
    "    "
   ]
  },
  {
   "cell_type": "code",
   "execution_count": null,
   "metadata": {},
   "outputs": [],
   "source": [
    "#q5\n",
    "for i in range(2,10000):\n",
    "    for j in range(2,i):\n",
    "        if i%j==0:\n",
    "            break\n",
    "    else:\n",
    "        print(i)"
   ]
  }
 ],
 "metadata": {
  "kernelspec": {
   "display_name": "Python 3",
   "language": "python",
   "name": "python3"
  },
  "language_info": {
   "codemirror_mode": {
    "name": "ipython",
    "version": 3
   },
   "file_extension": ".py",
   "mimetype": "text/x-python",
   "name": "python",
   "nbconvert_exporter": "python",
   "pygments_lexer": "ipython3",
   "version": "3.8.5"
  }
 },
 "nbformat": 4,
 "nbformat_minor": 4
}
